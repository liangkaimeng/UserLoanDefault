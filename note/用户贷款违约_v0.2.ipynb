{
 "cells": [
  {
   "cell_type": "markdown",
   "id": "2de85aca",
   "metadata": {},
   "source": [
    "# 导入模块"
   ]
  },
  {
   "cell_type": "code",
   "execution_count": 1,
   "id": "d6202a8e",
   "metadata": {
    "ExecuteTime": {
     "end_time": "2021-11-16T14:35:41.981425Z",
     "start_time": "2021-11-16T14:35:40.626347Z"
    }
   },
   "outputs": [],
   "source": [
    "import warnings\n",
    "warnings.filterwarnings('ignore')\n",
    "import pandas as pd\n",
    "import seaborn as sns\n",
    "import matplotlib.pyplot as plt\n",
    "from sklearn.utils import shuffle\n",
    "\n",
    "pd.set_option('display.width', 500)\n",
    "pd.set_option('display.max_columns', None)\n",
    "pd.set_option('display.max_rows', None)\n",
    "plt.rcParams['font.sans-serif'] = ['FangSong']\n",
    "plt.rcParams['axes.unicode_minus'] = False"
   ]
  },
  {
   "cell_type": "markdown",
   "id": "2056d61b",
   "metadata": {},
   "source": [
    "# 加载数据"
   ]
  },
  {
   "cell_type": "code",
   "execution_count": 2,
   "id": "b599802d",
   "metadata": {
    "ExecuteTime": {
     "end_time": "2021-11-16T14:36:29.186125Z",
     "start_time": "2021-11-16T14:36:28.462083Z"
    }
   },
   "outputs": [
    {
     "data": {
      "text/html": [
       "<div>\n",
       "<style scoped>\n",
       "    .dataframe tbody tr th:only-of-type {\n",
       "        vertical-align: middle;\n",
       "    }\n",
       "\n",
       "    .dataframe tbody tr th {\n",
       "        vertical-align: top;\n",
       "    }\n",
       "\n",
       "    .dataframe thead th {\n",
       "        text-align: right;\n",
       "    }\n",
       "</style>\n",
       "<table border=\"1\" class=\"dataframe\">\n",
       "  <thead>\n",
       "    <tr style=\"text-align: right;\">\n",
       "      <th></th>\n",
       "      <th>id</th>\n",
       "      <th>income</th>\n",
       "      <th>age</th>\n",
       "      <th>experience_years</th>\n",
       "      <th>is_married</th>\n",
       "      <th>city</th>\n",
       "      <th>region</th>\n",
       "      <th>current_job_years</th>\n",
       "      <th>current_house_years</th>\n",
       "      <th>house_ownership</th>\n",
       "      <th>car_ownership</th>\n",
       "      <th>profession</th>\n",
       "      <th>label</th>\n",
       "      <th>tag</th>\n",
       "    </tr>\n",
       "  </thead>\n",
       "  <tbody>\n",
       "    <tr>\n",
       "      <th>0</th>\n",
       "      <td>train_141336</td>\n",
       "      <td>7009156</td>\n",
       "      <td>36</td>\n",
       "      <td>20</td>\n",
       "      <td>married</td>\n",
       "      <td>222</td>\n",
       "      <td>22</td>\n",
       "      <td>10</td>\n",
       "      <td>12</td>\n",
       "      <td>rented</td>\n",
       "      <td>no</td>\n",
       "      <td>5</td>\n",
       "      <td>0</td>\n",
       "      <td>train</td>\n",
       "    </tr>\n",
       "    <tr>\n",
       "      <th>1</th>\n",
       "      <td>train_99361</td>\n",
       "      <td>3725530</td>\n",
       "      <td>31</td>\n",
       "      <td>8</td>\n",
       "      <td>single</td>\n",
       "      <td>309</td>\n",
       "      <td>25</td>\n",
       "      <td>8</td>\n",
       "      <td>14</td>\n",
       "      <td>rented</td>\n",
       "      <td>no</td>\n",
       "      <td>38</td>\n",
       "      <td>0</td>\n",
       "      <td>train</td>\n",
       "    </tr>\n",
       "    <tr>\n",
       "      <th>2</th>\n",
       "      <td>train_27268</td>\n",
       "      <td>7733758</td>\n",
       "      <td>27</td>\n",
       "      <td>20</td>\n",
       "      <td>single</td>\n",
       "      <td>31</td>\n",
       "      <td>28</td>\n",
       "      <td>4</td>\n",
       "      <td>11</td>\n",
       "      <td>rented</td>\n",
       "      <td>no</td>\n",
       "      <td>35</td>\n",
       "      <td>0</td>\n",
       "      <td>train</td>\n",
       "    </tr>\n",
       "    <tr>\n",
       "      <th>3</th>\n",
       "      <td>train_59720</td>\n",
       "      <td>5994422</td>\n",
       "      <td>62</td>\n",
       "      <td>17</td>\n",
       "      <td>single</td>\n",
       "      <td>127</td>\n",
       "      <td>13</td>\n",
       "      <td>6</td>\n",
       "      <td>13</td>\n",
       "      <td>rented</td>\n",
       "      <td>no</td>\n",
       "      <td>2</td>\n",
       "      <td>0</td>\n",
       "      <td>train</td>\n",
       "    </tr>\n",
       "    <tr>\n",
       "      <th>4</th>\n",
       "      <td>train_5187</td>\n",
       "      <td>2707807</td>\n",
       "      <td>35</td>\n",
       "      <td>12</td>\n",
       "      <td>single</td>\n",
       "      <td>14</td>\n",
       "      <td>14</td>\n",
       "      <td>4</td>\n",
       "      <td>13</td>\n",
       "      <td>rented</td>\n",
       "      <td>no</td>\n",
       "      <td>10</td>\n",
       "      <td>0</td>\n",
       "      <td>train</td>\n",
       "    </tr>\n",
       "  </tbody>\n",
       "</table>\n",
       "</div>"
      ],
      "text/plain": [
       "             id   income  age  experience_years is_married  city  region  current_job_years  current_house_years house_ownership car_ownership  profession  label    tag\n",
       "0  train_141336  7009156   36                20    married   222      22                 10                   12          rented            no           5      0  train\n",
       "1   train_99361  3725530   31                 8     single   309      25                  8                   14          rented            no          38      0  train\n",
       "2   train_27268  7733758   27                20     single    31      28                  4                   11          rented            no          35      0  train\n",
       "3   train_59720  5994422   62                17     single   127      13                  6                   13          rented            no           2      0  train\n",
       "4    train_5187  2707807   35                12     single    14      14                  4                   13          rented            no          10      0  train"
      ]
     },
     "execution_count": 2,
     "metadata": {},
     "output_type": "execute_result"
    }
   ],
   "source": [
    "train = pd.read_csv('../data/train.csv')\n",
    "train['tag'] = 'train'\n",
    "test = pd.read_csv('../data/test.csv')\n",
    "test['tag'] = 'test'\n",
    "data = train.append(test)\n",
    "data = shuffle(data)\n",
    "data.index = range(len(data))\n",
    "data.head()"
   ]
  },
  {
   "cell_type": "markdown",
   "id": "422df0f9",
   "metadata": {},
   "source": [
    "# 特征工程"
   ]
  },
  {
   "cell_type": "markdown",
   "id": "9e6be6b2",
   "metadata": {},
   "source": [
    "## 特征交互"
   ]
  },
  {
   "cell_type": "code",
   "execution_count": 5,
   "id": "c3866bf5",
   "metadata": {
    "ExecuteTime": {
     "end_time": "2021-11-16T14:45:11.124978Z",
     "start_time": "2021-11-16T14:45:11.089976Z"
    }
   },
   "outputs": [
    {
     "data": {
      "text/plain": [
       "{'married': 0.10245646766169154, 'single': 0.1253358789421581}"
      ]
     },
     "execution_count": 5,
     "metadata": {},
     "output_type": "execute_result"
    }
   ],
   "source": [
    "data.groupby(by='is_married')['label'].mean().to_dict()"
   ]
  },
  {
   "cell_type": "code",
   "execution_count": null,
   "id": "224735ba",
   "metadata": {},
   "outputs": [],
   "source": []
  }
 ],
 "metadata": {
  "kernelspec": {
   "display_name": "Python [conda env:lkm]",
   "language": "python",
   "name": "lkm"
  },
  "language_info": {
   "codemirror_mode": {
    "name": "ipython",
    "version": 3
   },
   "file_extension": ".py",
   "mimetype": "text/x-python",
   "name": "python",
   "nbconvert_exporter": "python",
   "pygments_lexer": "ipython3",
   "version": "3.7.11"
  },
  "toc": {
   "base_numbering": 1,
   "nav_menu": {},
   "number_sections": true,
   "sideBar": true,
   "skip_h1_title": false,
   "title_cell": "Table of Contents",
   "title_sidebar": "Contents",
   "toc_cell": false,
   "toc_position": {},
   "toc_section_display": true,
   "toc_window_display": true
  }
 },
 "nbformat": 4,
 "nbformat_minor": 5
}
